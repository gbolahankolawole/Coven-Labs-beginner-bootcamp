{
 "cells": [
  {
   "cell_type": "markdown",
   "metadata": {},
   "source": [
    "COVEN LABS DEMO PROJECT 1\n",
    "This data "
   ]
  },
  {
   "cell_type": "code",
   "execution_count": 1,
   "metadata": {},
   "outputs": [],
   "source": [
    "import pandas as pd\n",
    "import numpy as np\n",
    "import seaborn as sns\n",
    "\n",
    "import matplotlib.pyplot as plt\n",
    "%matplotlib inline"
   ]
  },
  {
   "cell_type": "code",
   "execution_count": 2,
   "metadata": {},
   "outputs": [],
   "source": [
    "df= pd.read_stata('group1.dta')"
   ]
  },
  {
   "cell_type": "code",
   "execution_count": 3,
   "metadata": {},
   "outputs": [
    {
     "data": {
      "text/html": [
       "<div>\n",
       "<style scoped>\n",
       "    .dataframe tbody tr th:only-of-type {\n",
       "        vertical-align: middle;\n",
       "    }\n",
       "\n",
       "    .dataframe tbody tr th {\n",
       "        vertical-align: top;\n",
       "    }\n",
       "\n",
       "    .dataframe thead th {\n",
       "        text-align: right;\n",
       "    }\n",
       "</style>\n",
       "<table border=\"1\" class=\"dataframe\">\n",
       "  <thead>\n",
       "    <tr style=\"text-align: right;\">\n",
       "      <th></th>\n",
       "      <th>v012</th>\n",
       "      <th>v013</th>\n",
       "      <th>v024</th>\n",
       "      <th>v102</th>\n",
       "      <th>v106</th>\n",
       "      <th>v190</th>\n",
       "      <th>b8</th>\n",
       "      <th>h11</th>\n",
       "    </tr>\n",
       "  </thead>\n",
       "  <tbody>\n",
       "    <tr>\n",
       "      <th>0</th>\n",
       "      <td>45</td>\n",
       "      <td>45-49</td>\n",
       "      <td>North Central</td>\n",
       "      <td>Rural</td>\n",
       "      <td>Primary</td>\n",
       "      <td>Poorer</td>\n",
       "      <td>1.0</td>\n",
       "      <td>No</td>\n",
       "    </tr>\n",
       "    <tr>\n",
       "      <th>1</th>\n",
       "      <td>48</td>\n",
       "      <td>45-49</td>\n",
       "      <td>North Central</td>\n",
       "      <td>Rural</td>\n",
       "      <td>Primary</td>\n",
       "      <td>Poorer</td>\n",
       "      <td>NaN</td>\n",
       "      <td>NaN</td>\n",
       "    </tr>\n",
       "    <tr>\n",
       "      <th>2</th>\n",
       "      <td>35</td>\n",
       "      <td>35-39</td>\n",
       "      <td>North Central</td>\n",
       "      <td>Rural</td>\n",
       "      <td>Primary</td>\n",
       "      <td>Poorer</td>\n",
       "      <td>1.0</td>\n",
       "      <td>Yes, last two weeks</td>\n",
       "    </tr>\n",
       "    <tr>\n",
       "      <th>3</th>\n",
       "      <td>25</td>\n",
       "      <td>25-29</td>\n",
       "      <td>North Central</td>\n",
       "      <td>Rural</td>\n",
       "      <td>Primary</td>\n",
       "      <td>Poorer</td>\n",
       "      <td>1.0</td>\n",
       "      <td>No</td>\n",
       "    </tr>\n",
       "    <tr>\n",
       "      <th>4</th>\n",
       "      <td>25</td>\n",
       "      <td>25-29</td>\n",
       "      <td>North Central</td>\n",
       "      <td>Rural</td>\n",
       "      <td>Primary</td>\n",
       "      <td>Poorer</td>\n",
       "      <td>3.0</td>\n",
       "      <td>No</td>\n",
       "    </tr>\n",
       "  </tbody>\n",
       "</table>\n",
       "</div>"
      ],
      "text/plain": [
       "   v012   v013           v024   v102     v106    v190   b8  \\\n",
       "0    45  45-49  North Central  Rural  Primary  Poorer  1.0   \n",
       "1    48  45-49  North Central  Rural  Primary  Poorer  NaN   \n",
       "2    35  35-39  North Central  Rural  Primary  Poorer  1.0   \n",
       "3    25  25-29  North Central  Rural  Primary  Poorer  1.0   \n",
       "4    25  25-29  North Central  Rural  Primary  Poorer  3.0   \n",
       "\n",
       "                   h11  \n",
       "0                   No  \n",
       "1                  NaN  \n",
       "2  Yes, last two weeks  \n",
       "3                   No  \n",
       "4                   No  "
      ]
     },
     "execution_count": 3,
     "metadata": {},
     "output_type": "execute_result"
    }
   ],
   "source": [
    "df.head()"
   ]
  },
  {
   "cell_type": "code",
   "execution_count": 4,
   "metadata": {},
   "outputs": [
    {
     "data": {
      "text/plain": [
       "[25353, 2968]"
      ]
     },
     "execution_count": 4,
     "metadata": {},
     "output_type": "execute_result"
    }
   ],
   "source": [
    "yes=sum(df['h11']=='Yes, last two weeks')\n",
    "no=sum(df['h11']=='No')\n",
    "yesNo=[no, yes]\n",
    "yesNo_level=[0,1]\n",
    "\n",
    "yesNo"
   ]
  },
  {
   "cell_type": "code",
   "execution_count": 5,
   "metadata": {},
   "outputs": [],
   "source": [
    "#region=df['v024'].unique()\n",
    "region=['NC','NE','NW','SE','SS','SW']\n",
    "\n",
    "nc= sum(df[df['v024']=='North Central']['h11']=='Yes, last two weeks')\n",
    "ne= sum(df[df['v024']=='North East']['h11']=='Yes, last two weeks')\n",
    "nw= sum(df[df['v024']=='North West']['h11']=='Yes, last two weeks')\n",
    "se= sum(df[df['v024']=='South East']['h11']=='Yes, last two weeks')\n",
    "ss= sum(df[df['v024']=='South South']['h11']=='Yes, last two weeks')\n",
    "sw= sum(df[df['v024']=='South West']['h11']=='Yes, last two weeks')\n",
    "\n",
    "diaorrhea=[nc, ne, nw, se, ss, sw]\n",
    "\n",
    "\n",
    "none= sum(df[df['v106']=='No education']['h11']=='Yes, last two weeks')\n",
    "primary= sum(df[df['v106']=='Primary']['h11']=='Yes, last two weeks')\n",
    "secondary= sum(df[df['v106']=='Secondary']['h11']=='Yes, last two weeks')\n",
    "higher= sum(df[df['v106']=='Higher']['h11']=='Yes, last two weeks')\n",
    "\n",
    "education=[none, primary, secondary, higher]\n",
    "edu_level=[0,1,2,3]\n",
    "\n",
    "\n",
    "\n",
    "rural= sum(df[df['v102']=='Rural']['h11']=='Yes, last two weeks')\n",
    "urban= sum(df[df['v102']=='Urban']['h11']=='Yes, last two weeks')\n",
    "\n",
    "area=[rural, urban]\n",
    "area_level=[0,1]\n",
    "\n",
    "\n",
    "\n",
    "poorest= sum(df[df['v190']=='Poorest']['h11']=='Yes, last two weeks')\n",
    "poorer= sum(df[df['v190']=='Poorer']['h11']=='Yes, last two weeks')\n",
    "middle= sum(df[df['v190']=='Middle']['h11']=='Yes, last two weeks')\n",
    "richer= sum(df[df['v190']=='Richer']['h11']=='Yes, last two weeks')\n",
    "richest= sum(df[df['v190']=='Richest']['h11']=='Yes, last two weeks')\n",
    "\n",
    "wealth=[poorest, poorer, middle, richer, richest]\n",
    "wealth_level=[0,1,2,3,4]\n",
    "\n",
    "\n",
    "\n",
    "yr1= sum(df[df['b8']==0.0]['h11']=='Yes, last two weeks')\n",
    "yr2= sum(df[df['b8']==1.0]['h11']=='Yes, last two weeks')\n",
    "yr3= sum(df[df['b8']==2.0]['h11']=='Yes, last two weeks')\n",
    "yr4= sum(df[df['b8']==3.0]['h11']=='Yes, last two weeks')\n",
    "yr5= sum(df[df['b8']==4.0]['h11']=='Yes, last two weeks')\n",
    "\n",
    "child_age=[yr1, yr2, yr3, yr4, yr5]\n",
    "child_age_level=[0,1,2,3,4]\n",
    "\n",
    "\n",
    "\n",
    "\n",
    "\n",
    "ageRange1= sum(df[df['v013']=='15-19']['h11']=='Yes, last two weeks')\n",
    "ageRange2= sum(df[df['v013']=='20-24']['h11']=='Yes, last two weeks')\n",
    "ageRange3= sum(df[df['v013']=='25-29']['h11']=='Yes, last two weeks')\n",
    "ageRange4= sum(df[df['v013']=='30-34']['h11']=='Yes, last two weeks')\n",
    "ageRange5= sum(df[df['v013']=='35-39']['h11']=='Yes, last two weeks')\n",
    "ageRange6= sum(df[df['v013']=='40-44']['h11']=='Yes, last two weeks')\n",
    "ageRange7= sum(df[df['v013']=='45-49']['h11']=='Yes, last two weeks')\n",
    "\n",
    "ageRange=[ageRange1, ageRange2, ageRange3, ageRange4, ageRange5, ageRange6, ageRange7]\n",
    "ageRange_level=[0,1,2,3,4,5,6]"
   ]
  },
  {
   "cell_type": "code",
   "execution_count": 6,
   "metadata": {},
   "outputs": [
    {
     "data": {
      "image/png": "[encoded data removed]",
      "text/plain": [
       "<Figure size 432x288 with 1 Axes>"
      ]
     },
     "metadata": {},
     "output_type": "display_data"
    }
   ],
   "source": [
    "mDF=pd.DataFrame(diaorrhea)\n",
    "mDF[1]=region\n",
    "sns.barplot(x=1,y=0, data=mDF);\n",
    "\n"
   ]
  },
  {
   "cell_type": "code",
   "execution_count": 7,
   "metadata": {},
   "outputs": [
    {
     "data": {
      "text/plain": [
       "(-1.0490327362715026,\n",
       " 1.1547089817555405,\n",
       " -1.1949881235777475,\n",
       " 1.0805826708051893)"
      ]
     },
     "execution_count": 7,
     "metadata": {},
     "output_type": "execute_result"
    },
    {
     "data": {
      "image/png": "[encoded data removed]",
      "text/plain": [
       "<Figure size 432x288 with 1 Axes>"
      ]
     },
     "metadata": {},
     "output_type": "display_data"
    }
   ],
   "source": [
    "labels=['No', 'Yes']\n",
    "sizes=yesNo\n",
    "colors=['gold','lightcoral']\n",
    "explode=[0.1,0]\n",
    "\n",
    "plt.pie(sizes, explode=explode, labels=labels, colors=colors, \n",
    "        autopct='%1.1f%%', shadow=True, startangle=140)\n",
    "\n",
    "plt.axis('equal')"
   ]
  },
  {
   "cell_type": "code",
   "execution_count": 8,
   "metadata": {},
   "outputs": [],
   "source": [
    "#colors=['gold','lightcoral', 'yellowgreen', 'red', 'lightskyblue', 'green']\n",
    "#explode=[0.1,0,0,0,0,0]\n",
    "\n",
    "#plt.pie(diaorrhea, explode=explode, labels=region, colors=colors, \n",
    "#        autopct='%1.1f%%', shadow=True, startangle=140)\n",
    "\n",
    "#plt.axis('equal')"
   ]
  },
  {
   "cell_type": "code",
   "execution_count": 9,
   "metadata": {},
   "outputs": [],
   "source": [
    "eDF=pd.DataFrame(education)\n",
    "eDF[1]=['none', 'primary', 'secondary', 'higher']\n",
    "\n",
    "aDF=pd.DataFrame(area)\n",
    "aDF[1]=['rural', 'urban']\n",
    "\n",
    "wDF=pd.DataFrame(wealth)\n",
    "wDF[1]=['poorest', 'poorer', 'middle', 'richer', 'richest']\n",
    "\n",
    "cDF=pd.DataFrame(child_age)\n",
    "cDF[1]=['yr1', 'yr2', 'yr3', 'yr4', 'yr5']\n",
    "\n",
    "arDF=pd.DataFrame(ageRange)\n",
    "arDF[1]=['15-19', '20-24','25-29', '30-34', '35-39', '40-44', '45-49']\n"
   ]
  },
  {
   "cell_type": "code",
   "execution_count": 10,
   "metadata": {},
   "outputs": [
    {
     "data": {
      "image/png": "[encoded data removed]",
      "text/plain": [
       "<Figure size 432x288 with 1 Axes>"
      ]
     },
     "metadata": {},
     "output_type": "display_data"
    }
   ],
   "source": [
    "sns.barplot(x=1,y=0, data=eDF);"
   ]
  },
  {
   "cell_type": "code",
   "execution_count": 11,
   "metadata": {},
   "outputs": [
    {
     "data": {
      "image/png": "[encoded data removed]",
      "text/plain": [
       "<Figure size 432x288 with 1 Axes>"
      ]
     },
     "metadata": {},
     "output_type": "display_data"
    }
   ],
   "source": [
    "sns.barplot(x=1,y=0, data=aDF);"
   ]
  },
  {
   "cell_type": "code",
   "execution_count": 12,
   "metadata": {},
   "outputs": [
    {
     "data": {
      "text/plain": [
       "(-1.2143057004193107,\n",
       " 1.1245257471016528,\n",
       " -1.1066077408442934,\n",
       " 1.1107975374565537)"
      ]
     },
     "execution_count": 12,
     "metadata": {},
     "output_type": "execute_result"
    },
    {
     "data": {
      "image/png": "[encoded data removed]",
      "text/plain": [
       "<Figure size 432x288 with 1 Axes>"
      ]
     },
     "metadata": {},
     "output_type": "display_data"
    }
   ],
   "source": [
    "colors=['gold','lightcoral', 'yellowgreen', 'red', 'lightskyblue']\n",
    "explode=[0.1,0,0,0,0]\n",
    "wealth_labels_list=['poorest', 'poorer', 'middle', 'richer', 'richest']\n",
    "\n",
    "plt.pie(wealth, explode=explode, labels=wealth_labels_list, colors=colors, \n",
    "        autopct='%1.1f%%', shadow=True, startangle=140)\n",
    "\n",
    "plt.axis('equal')\n",
    "\n",
    "#sns.barplot(x=1,y=0, data=wDF);"
   ]
  },
  {
   "cell_type": "code",
   "execution_count": 13,
   "metadata": {},
   "outputs": [
    {
     "data": {
      "image/png": "[encoded data removed]",
      "text/plain": [
       "<Figure size 432x288 with 1 Axes>"
      ]
     },
     "metadata": {},
     "output_type": "display_data"
    }
   ],
   "source": [
    "sns.barplot(x=1,y=0, data=arDF);"
   ]
  },
  {
   "cell_type": "code",
   "execution_count": 14,
   "metadata": {},
   "outputs": [
    {
     "data": {
      "text/plain": [
       "(-1.22064954361148, 1.1264172295113581, -1.112847209462546, 1.1115350386070406)"
      ]
     },
     "execution_count": 14,
     "metadata": {},
     "output_type": "execute_result"
    },
    {
     "data": {
      "image/png": "[encoded data removed]",
      "text/plain": [
       "<Figure size 432x288 with 1 Axes>"
      ]
     },
     "metadata": {},
     "output_type": "display_data"
    }
   ],
   "source": [
    "colors=['gold','lightcoral', 'yellowgreen', 'red', 'lightskyblue']\n",
    "explode=[0.1,0,0,0,0]\n",
    "child_age_list=['1 year old', '2 years old', '3 years old', '4 years old', '5 years old']\n",
    "\n",
    "plt.pie(child_age, explode=explode, labels=child_age_list, colors=colors, \n",
    "        autopct='%1.1f%%', shadow=True, startangle=140)\n",
    "\n",
    "plt.axis('equal')\n"
   ]
  },
  {
   "cell_type": "code",
   "execution_count": 15,
   "metadata": {},
   "outputs": [
    {
     "data": {
      "text/html": [
       "<div>\n",
       "<style scoped>\n",
       "    .dataframe tbody tr th:only-of-type {\n",
       "        vertical-align: middle;\n",
       "    }\n",
       "\n",
       "    .dataframe tbody tr th {\n",
       "        vertical-align: top;\n",
       "    }\n",
       "\n",
       "    .dataframe thead th {\n",
       "        text-align: right;\n",
       "    }\n",
       "</style>\n",
       "<table border=\"1\" class=\"dataframe\">\n",
       "  <thead>\n",
       "    <tr style=\"text-align: right;\">\n",
       "      <th></th>\n",
       "      <th>v012</th>\n",
       "      <th>v013</th>\n",
       "      <th>v024</th>\n",
       "      <th>v102</th>\n",
       "      <th>v106</th>\n",
       "      <th>v190</th>\n",
       "      <th>b8</th>\n",
       "      <th>h11</th>\n",
       "    </tr>\n",
       "  </thead>\n",
       "  <tbody>\n",
       "    <tr>\n",
       "      <th>0</th>\n",
       "      <td>45</td>\n",
       "      <td>45-49</td>\n",
       "      <td>North Central</td>\n",
       "      <td>Rural</td>\n",
       "      <td>Primary</td>\n",
       "      <td>Poorer</td>\n",
       "      <td>1.0</td>\n",
       "      <td>No</td>\n",
       "    </tr>\n",
       "    <tr>\n",
       "      <th>1</th>\n",
       "      <td>48</td>\n",
       "      <td>45-49</td>\n",
       "      <td>North Central</td>\n",
       "      <td>Rural</td>\n",
       "      <td>Primary</td>\n",
       "      <td>Poorer</td>\n",
       "      <td>NaN</td>\n",
       "      <td>NaN</td>\n",
       "    </tr>\n",
       "    <tr>\n",
       "      <th>2</th>\n",
       "      <td>35</td>\n",
       "      <td>35-39</td>\n",
       "      <td>North Central</td>\n",
       "      <td>Rural</td>\n",
       "      <td>Primary</td>\n",
       "      <td>Poorer</td>\n",
       "      <td>1.0</td>\n",
       "      <td>Yes, last two weeks</td>\n",
       "    </tr>\n",
       "    <tr>\n",
       "      <th>3</th>\n",
       "      <td>25</td>\n",
       "      <td>25-29</td>\n",
       "      <td>North Central</td>\n",
       "      <td>Rural</td>\n",
       "      <td>Primary</td>\n",
       "      <td>Poorer</td>\n",
       "      <td>1.0</td>\n",
       "      <td>No</td>\n",
       "    </tr>\n",
       "    <tr>\n",
       "      <th>4</th>\n",
       "      <td>25</td>\n",
       "      <td>25-29</td>\n",
       "      <td>North Central</td>\n",
       "      <td>Rural</td>\n",
       "      <td>Primary</td>\n",
       "      <td>Poorer</td>\n",
       "      <td>3.0</td>\n",
       "      <td>No</td>\n",
       "    </tr>\n",
       "  </tbody>\n",
       "</table>\n",
       "</div>"
      ],
      "text/plain": [
       "   v012   v013           v024   v102     v106    v190   b8  \\\n",
       "0    45  45-49  North Central  Rural  Primary  Poorer  1.0   \n",
       "1    48  45-49  North Central  Rural  Primary  Poorer  NaN   \n",
       "2    35  35-39  North Central  Rural  Primary  Poorer  1.0   \n",
       "3    25  25-29  North Central  Rural  Primary  Poorer  1.0   \n",
       "4    25  25-29  North Central  Rural  Primary  Poorer  3.0   \n",
       "\n",
       "                   h11  \n",
       "0                   No  \n",
       "1                  NaN  \n",
       "2  Yes, last two weeks  \n",
       "3                   No  \n",
       "4                   No  "
      ]
     },
     "execution_count": 15,
     "metadata": {},
     "output_type": "execute_result"
    }
   ],
   "source": [
    "df.head()"
   ]
  },
  {
   "cell_type": "code",
   "execution_count": 16,
   "metadata": {},
   "outputs": [
    {
     "data": {
      "text/html": [
       "<div>\n",
       "<style scoped>\n",
       "    .dataframe tbody tr th:only-of-type {\n",
       "        vertical-align: middle;\n",
       "    }\n",
       "\n",
       "    .dataframe tbody tr th {\n",
       "        vertical-align: top;\n",
       "    }\n",
       "\n",
       "    .dataframe thead th {\n",
       "        text-align: right;\n",
       "    }\n",
       "</style>\n",
       "<table border=\"1\" class=\"dataframe\">\n",
       "  <thead>\n",
       "    <tr style=\"text-align: right;\">\n",
       "      <th></th>\n",
       "      <th>v012</th>\n",
       "      <th>v013</th>\n",
       "      <th>v024</th>\n",
       "      <th>v102</th>\n",
       "      <th>v106</th>\n",
       "      <th>v190</th>\n",
       "      <th>b8</th>\n",
       "      <th>h11</th>\n",
       "    </tr>\n",
       "  </thead>\n",
       "  <tbody>\n",
       "    <tr>\n",
       "      <th>0</th>\n",
       "      <td>45</td>\n",
       "      <td>45-49</td>\n",
       "      <td>North Central</td>\n",
       "      <td>Rural</td>\n",
       "      <td>Primary</td>\n",
       "      <td>Poorer</td>\n",
       "      <td>1.0</td>\n",
       "      <td>No</td>\n",
       "    </tr>\n",
       "    <tr>\n",
       "      <th>2</th>\n",
       "      <td>35</td>\n",
       "      <td>35-39</td>\n",
       "      <td>North Central</td>\n",
       "      <td>Rural</td>\n",
       "      <td>Primary</td>\n",
       "      <td>Poorer</td>\n",
       "      <td>1.0</td>\n",
       "      <td>Yes, last two weeks</td>\n",
       "    </tr>\n",
       "    <tr>\n",
       "      <th>3</th>\n",
       "      <td>25</td>\n",
       "      <td>25-29</td>\n",
       "      <td>North Central</td>\n",
       "      <td>Rural</td>\n",
       "      <td>Primary</td>\n",
       "      <td>Poorer</td>\n",
       "      <td>1.0</td>\n",
       "      <td>No</td>\n",
       "    </tr>\n",
       "    <tr>\n",
       "      <th>4</th>\n",
       "      <td>25</td>\n",
       "      <td>25-29</td>\n",
       "      <td>North Central</td>\n",
       "      <td>Rural</td>\n",
       "      <td>Primary</td>\n",
       "      <td>Poorer</td>\n",
       "      <td>3.0</td>\n",
       "      <td>No</td>\n",
       "    </tr>\n",
       "    <tr>\n",
       "      <th>5</th>\n",
       "      <td>38</td>\n",
       "      <td>35-39</td>\n",
       "      <td>North Central</td>\n",
       "      <td>Rural</td>\n",
       "      <td>No education</td>\n",
       "      <td>Poorest</td>\n",
       "      <td>2.0</td>\n",
       "      <td>No</td>\n",
       "    </tr>\n",
       "  </tbody>\n",
       "</table>\n",
       "</div>"
      ],
      "text/plain": [
       "   v012   v013           v024   v102          v106     v190   b8  \\\n",
       "0    45  45-49  North Central  Rural       Primary   Poorer  1.0   \n",
       "2    35  35-39  North Central  Rural       Primary   Poorer  1.0   \n",
       "3    25  25-29  North Central  Rural       Primary   Poorer  1.0   \n",
       "4    25  25-29  North Central  Rural       Primary   Poorer  3.0   \n",
       "5    38  35-39  North Central  Rural  No education  Poorest  2.0   \n",
       "\n",
       "                   h11  \n",
       "0                   No  \n",
       "2  Yes, last two weeks  \n",
       "3                   No  \n",
       "4                   No  \n",
       "5                   No  "
      ]
     },
     "execution_count": 16,
     "metadata": {},
     "output_type": "execute_result"
    }
   ],
   "source": [
    "#drop rows with null values\n",
    "\n",
    "objDF=df.dropna(axis=0, how='any')\n",
    "objDF[objDF.isnull().any(axis=1)]\n",
    "\n",
    "replacement_dict={'v013':{'15-19':0,'20-24':1,'25-29':2,'30-34':3,\n",
    "                          '35-39':4, '40-44':5, '45-49':6 },\n",
    "                  'v024':{'North West' :0, 'North East':1, 'North Central':2, 'South West':3,\n",
    "                          'South South':4, 'South East':5},\n",
    "                  'v102':{'Rural':0, 'Urban':1},\n",
    "                  'v106':{'No education':0, 'Primary':1, 'Secondary':2, 'Higher':3},\n",
    "                  'v190':{'Poorest':0, 'Poorer':1, 'Middle':2, 'Richer':3, 'Richest':4},\n",
    "                  'h11':{'No':0,'Yes, last two weeks':1, 'Don\\'t know':2, '9':2},\n",
    "                 }\n",
    "objDF.head()"
   ]
  },
  {
   "cell_type": "code",
   "execution_count": 17,
   "metadata": {},
   "outputs": [
    {
     "data": {
      "text/html": [
       "<div>\n",
       "<style scoped>\n",
       "    .dataframe tbody tr th:only-of-type {\n",
       "        vertical-align: middle;\n",
       "    }\n",
       "\n",
       "    .dataframe tbody tr th {\n",
       "        vertical-align: top;\n",
       "    }\n",
       "\n",
       "    .dataframe thead th {\n",
       "        text-align: right;\n",
       "    }\n",
       "</style>\n",
       "<table border=\"1\" class=\"dataframe\">\n",
       "  <thead>\n",
       "    <tr style=\"text-align: right;\">\n",
       "      <th></th>\n",
       "      <th>v012</th>\n",
       "      <th>v013</th>\n",
       "      <th>v024</th>\n",
       "      <th>v102</th>\n",
       "      <th>v106</th>\n",
       "      <th>v190</th>\n",
       "      <th>b8</th>\n",
       "      <th>h11</th>\n",
       "    </tr>\n",
       "  </thead>\n",
       "  <tbody>\n",
       "    <tr>\n",
       "      <th>0</th>\n",
       "      <td>45</td>\n",
       "      <td>6</td>\n",
       "      <td>2</td>\n",
       "      <td>0</td>\n",
       "      <td>1</td>\n",
       "      <td>1</td>\n",
       "      <td>1.0</td>\n",
       "      <td>0.0</td>\n",
       "    </tr>\n",
       "    <tr>\n",
       "      <th>2</th>\n",
       "      <td>35</td>\n",
       "      <td>4</td>\n",
       "      <td>2</td>\n",
       "      <td>0</td>\n",
       "      <td>1</td>\n",
       "      <td>1</td>\n",
       "      <td>1.0</td>\n",
       "      <td>1.0</td>\n",
       "    </tr>\n",
       "    <tr>\n",
       "      <th>3</th>\n",
       "      <td>25</td>\n",
       "      <td>2</td>\n",
       "      <td>2</td>\n",
       "      <td>0</td>\n",
       "      <td>1</td>\n",
       "      <td>1</td>\n",
       "      <td>1.0</td>\n",
       "      <td>0.0</td>\n",
       "    </tr>\n",
       "    <tr>\n",
       "      <th>4</th>\n",
       "      <td>25</td>\n",
       "      <td>2</td>\n",
       "      <td>2</td>\n",
       "      <td>0</td>\n",
       "      <td>1</td>\n",
       "      <td>1</td>\n",
       "      <td>3.0</td>\n",
       "      <td>0.0</td>\n",
       "    </tr>\n",
       "    <tr>\n",
       "      <th>5</th>\n",
       "      <td>38</td>\n",
       "      <td>4</td>\n",
       "      <td>2</td>\n",
       "      <td>0</td>\n",
       "      <td>0</td>\n",
       "      <td>0</td>\n",
       "      <td>2.0</td>\n",
       "      <td>0.0</td>\n",
       "    </tr>\n",
       "  </tbody>\n",
       "</table>\n",
       "</div>"
      ],
      "text/plain": [
       "   v012  v013  v024  v102  v106  v190   b8  h11\n",
       "0    45     6     2     0     1     1  1.0  0.0\n",
       "2    35     4     2     0     1     1  1.0  1.0\n",
       "3    25     2     2     0     1     1  1.0  0.0\n",
       "4    25     2     2     0     1     1  3.0  0.0\n",
       "5    38     4     2     0     0     0  2.0  0.0"
      ]
     },
     "execution_count": 17,
     "metadata": {},
     "output_type": "execute_result"
    }
   ],
   "source": [
    "finalDF=objDF.replace(replacement_dict)\n",
    "finalDF.head()"
   ]
  },
  {
   "cell_type": "code",
   "execution_count": 18,
   "metadata": {},
   "outputs": [
    {
     "data": {
      "text/html": [
       "<div>\n",
       "<style scoped>\n",
       "    .dataframe tbody tr th:only-of-type {\n",
       "        vertical-align: middle;\n",
       "    }\n",
       "\n",
       "    .dataframe tbody tr th {\n",
       "        vertical-align: top;\n",
       "    }\n",
       "\n",
       "    .dataframe thead th {\n",
       "        text-align: right;\n",
       "    }\n",
       "</style>\n",
       "<table border=\"1\" class=\"dataframe\">\n",
       "  <thead>\n",
       "    <tr style=\"text-align: right;\">\n",
       "      <th></th>\n",
       "      <th>v012</th>\n",
       "      <th>v013</th>\n",
       "      <th>v024</th>\n",
       "      <th>v102</th>\n",
       "      <th>v106</th>\n",
       "      <th>v190</th>\n",
       "      <th>b8</th>\n",
       "      <th>h11</th>\n",
       "    </tr>\n",
       "  </thead>\n",
       "  <tbody>\n",
       "    <tr>\n",
       "      <th>v012</th>\n",
       "      <td>1.000000</td>\n",
       "      <td>0.978123</td>\n",
       "      <td>0.096573</td>\n",
       "      <td>0.077526</td>\n",
       "      <td>0.009579</td>\n",
       "      <td>0.069563</td>\n",
       "      <td>0.175471</td>\n",
       "      <td>-0.017260</td>\n",
       "    </tr>\n",
       "    <tr>\n",
       "      <th>v013</th>\n",
       "      <td>0.978123</td>\n",
       "      <td>1.000000</td>\n",
       "      <td>0.068045</td>\n",
       "      <td>0.063661</td>\n",
       "      <td>-0.019285</td>\n",
       "      <td>0.045610</td>\n",
       "      <td>0.173889</td>\n",
       "      <td>-0.017573</td>\n",
       "    </tr>\n",
       "    <tr>\n",
       "      <th>v024</th>\n",
       "      <td>0.096573</td>\n",
       "      <td>0.068045</td>\n",
       "      <td>1.000000</td>\n",
       "      <td>0.289321</td>\n",
       "      <td>0.564236</td>\n",
       "      <td>0.495822</td>\n",
       "      <td>-0.010254</td>\n",
       "      <td>-0.037730</td>\n",
       "    </tr>\n",
       "    <tr>\n",
       "      <th>v102</th>\n",
       "      <td>0.077526</td>\n",
       "      <td>0.063661</td>\n",
       "      <td>0.289321</td>\n",
       "      <td>1.000000</td>\n",
       "      <td>0.404500</td>\n",
       "      <td>0.585854</td>\n",
       "      <td>0.004005</td>\n",
       "      <td>-0.017861</td>\n",
       "    </tr>\n",
       "    <tr>\n",
       "      <th>v106</th>\n",
       "      <td>0.009579</td>\n",
       "      <td>-0.019285</td>\n",
       "      <td>0.564236</td>\n",
       "      <td>0.404500</td>\n",
       "      <td>1.000000</td>\n",
       "      <td>0.668402</td>\n",
       "      <td>-0.040437</td>\n",
       "      <td>-0.051288</td>\n",
       "    </tr>\n",
       "    <tr>\n",
       "      <th>v190</th>\n",
       "      <td>0.069563</td>\n",
       "      <td>0.045610</td>\n",
       "      <td>0.495822</td>\n",
       "      <td>0.585854</td>\n",
       "      <td>0.668402</td>\n",
       "      <td>1.000000</td>\n",
       "      <td>-0.006077</td>\n",
       "      <td>-0.052353</td>\n",
       "    </tr>\n",
       "    <tr>\n",
       "      <th>b8</th>\n",
       "      <td>0.175471</td>\n",
       "      <td>0.173889</td>\n",
       "      <td>-0.010254</td>\n",
       "      <td>0.004005</td>\n",
       "      <td>-0.040437</td>\n",
       "      <td>-0.006077</td>\n",
       "      <td>1.000000</td>\n",
       "      <td>-0.005331</td>\n",
       "    </tr>\n",
       "    <tr>\n",
       "      <th>h11</th>\n",
       "      <td>-0.017260</td>\n",
       "      <td>-0.017573</td>\n",
       "      <td>-0.037730</td>\n",
       "      <td>-0.017861</td>\n",
       "      <td>-0.051288</td>\n",
       "      <td>-0.052353</td>\n",
       "      <td>-0.005331</td>\n",
       "      <td>1.000000</td>\n",
       "    </tr>\n",
       "  </tbody>\n",
       "</table>\n",
       "</div>"
      ],
      "text/plain": [
       "          v012      v013      v024      v102      v106      v190        b8  \\\n",
       "v012  1.000000  0.978123  0.096573  0.077526  0.009579  0.069563  0.175471   \n",
       "v013  0.978123  1.000000  0.068045  0.063661 -0.019285  0.045610  0.173889   \n",
       "v024  0.096573  0.068045  1.000000  0.289321  0.564236  0.495822 -0.010254   \n",
       "v102  0.077526  0.063661  0.289321  1.000000  0.404500  0.585854  0.004005   \n",
       "v106  0.009579 -0.019285  0.564236  0.404500  1.000000  0.668402 -0.040437   \n",
       "v190  0.069563  0.045610  0.495822  0.585854  0.668402  1.000000 -0.006077   \n",
       "b8    0.175471  0.173889 -0.010254  0.004005 -0.040437 -0.006077  1.000000   \n",
       "h11  -0.017260 -0.017573 -0.037730 -0.017861 -0.051288 -0.052353 -0.005331   \n",
       "\n",
       "           h11  \n",
       "v012 -0.017260  \n",
       "v013 -0.017573  \n",
       "v024 -0.037730  \n",
       "v102 -0.017861  \n",
       "v106 -0.051288  \n",
       "v190 -0.052353  \n",
       "b8   -0.005331  \n",
       "h11   1.000000  "
      ]
     },
     "execution_count": 18,
     "metadata": {},
     "output_type": "execute_result"
    }
   ],
   "source": [
    "#corrDF=finalDF[finalDF['h11'] == 1]\n",
    "finalDF.corr()"
   ]
  },
  {
   "cell_type": "code",
   "execution_count": 19,
   "metadata": {},
   "outputs": [
    {
     "data": {
      "text/plain": [
       "<matplotlib.axes._subplots.AxesSubplot at 0x20b256901d0>"
      ]
     },
     "execution_count": 19,
     "metadata": {},
     "output_type": "execute_result"
    },
    {
     "data": {
      "image/png": "[encoded data removed]",
      "text/plain": [
       "<Figure size 432x288 with 2 Axes>"
      ]
     },
     "metadata": {},
     "output_type": "display_data"
    }
   ],
   "source": [
    "finalDf_heatmap=finalDF.corr().round(2)\n",
    "sns.heatmap(finalDf_heatmap, cmap='coolwarm', robust=True, annot=True)"
   ]
  },
  {
   "cell_type": "code",
   "execution_count": null,
   "metadata": {},
   "outputs": [],
   "source": []
  }
 ],
 "metadata": {
  "kernelspec": {
   "display_name": "Python 3",
   "language": "python",
   "name": "python3"
  },
  "language_info": {
   "codemirror_mode": {
    "name": "ipython",
    "version": 3
   },
   "file_extension": ".py",
   "mimetype": "text/x-python",
   "name": "python",
   "nbconvert_exporter": "python",
   "pygments_lexer": "ipython3",
   "version": "3.6.5"
  }
 },
 "nbformat": 4,
 "nbformat_minor": 2
}
